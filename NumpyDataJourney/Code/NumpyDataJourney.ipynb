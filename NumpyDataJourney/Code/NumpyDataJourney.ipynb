{
 "cells": [
  {
   "cell_type": "markdown",
   "id": "711ddf9e-b0a2-4133-8190-cec47ab3e502",
   "metadata": {},
   "source": [
    "# Numpy Data Journey "
   ]
  },
  {
   "cell_type": "markdown",
   "id": "cba881cf-2166-4ff5-9c34-00ab835f0705",
   "metadata": {},
   "source": [
    "## 🚀 Quick Start\n"
   ]
  },
  {
   "cell_type": "markdown",
   "id": "e6b64280-6378-449a-a7e0-466c14a6c747",
   "metadata": {},
   "source": [
    "### Installation"
   ]
  },
  {
   "cell_type": "code",
   "execution_count": 1,
   "id": "aaa663c0-6da2-43c3-9ca5-5366e0a31a4b",
   "metadata": {},
   "outputs": [
    {
     "name": "stdout",
     "output_type": "stream",
     "text": [
      "Requirement already satisfied: numpy in c:\\users\\pc\\anaconda3\\lib\\site-packages (2.1.3)\n",
      "Note: you may need to restart the kernel to use updated packages.\n"
     ]
    }
   ],
   "source": [
    "pip install numpy"
   ]
  },
  {
   "cell_type": "markdown",
   "id": "25c07ad1-24bb-4e6a-933f-b8890626fa86",
   "metadata": {},
   "source": [
    "### Import"
   ]
  },
  {
   "cell_type": "code",
   "execution_count": 2,
   "id": "06a2ff0d-82e9-4c21-81f9-b12f5110f1fc",
   "metadata": {},
   "outputs": [],
   "source": [
    "import numpy as np"
   ]
  },
  {
   "cell_type": "markdown",
   "id": "a36389d0-3522-4561-b081-486ba7206595",
   "metadata": {},
   "source": [
    "## 💻 Basic Usage Examples\n"
   ]
  },
  {
   "cell_type": "markdown",
   "id": "b5f2d0e1-8846-4d62-98c6-661d49083680",
   "metadata": {},
   "source": [
    "### Creating Arrays"
   ]
  },
  {
   "cell_type": "markdown",
   "id": "0e520de5-9762-4e50-a0b1-418ec786bb64",
   "metadata": {},
   "source": [
    "#### Creating Arrays from Existing Data"
   ]
  },
  {
   "cell_type": "code",
   "execution_count": 5,
   "id": "894b3280-e310-4ea5-9cfd-7ec6aa011f08",
   "metadata": {},
   "outputs": [
    {
     "name": "stdout",
     "output_type": "stream",
     "text": [
      "Le tableau est \n",
      " [1 2 3]\n"
     ]
    }
   ],
   "source": [
    "Liste=[1,2,3]\n",
    "Table=np.array(Liste)\n",
    "print(\"Le tableau est \\n\", Table)"
   ]
  },
  {
   "cell_type": "markdown",
   "id": "ad029c35-ca26-4cc8-afa5-72623d3a2f03",
   "metadata": {},
   "source": [
    "#### Creating Pre-initialized Arrays"
   ]
  },
  {
   "cell_type": "code",
   "execution_count": 6,
   "id": "d6c69179-c2b9-45ad-8830-9512422aacc3",
   "metadata": {},
   "outputs": [
    {
     "data": {
      "text/plain": [
       "array([[1., 1., 1.],\n",
       "       [1., 1., 1.]])"
      ]
     },
     "execution_count": 6,
     "metadata": {},
     "output_type": "execute_result"
    }
   ],
   "source": [
    "np.ones((2,3))"
   ]
  },
  {
   "cell_type": "code",
   "execution_count": 7,
   "id": "f66c9b69-0fc8-4812-8861-65cad088b99d",
   "metadata": {},
   "outputs": [
    {
     "data": {
      "text/plain": [
       "array([[0., 0., 0.],\n",
       "       [0., 0., 0.]])"
      ]
     },
     "execution_count": 7,
     "metadata": {},
     "output_type": "execute_result"
    }
   ],
   "source": [
    "np.zeros((2,3))"
   ]
  },
  {
   "cell_type": "code",
   "execution_count": 9,
   "id": "226cdec1-10d4-424a-a095-cd6bb85c76a4",
   "metadata": {},
   "outputs": [
    {
     "data": {
      "text/plain": [
       "array([[7, 7, 7],\n",
       "       [7, 7, 7]])"
      ]
     },
     "execution_count": 9,
     "metadata": {},
     "output_type": "execute_result"
    }
   ],
   "source": [
    "np.full((2,3),7)"
   ]
  },
  {
   "cell_type": "code",
   "execution_count": 10,
   "id": "df506200-2bbd-4a79-94b0-d812e1486060",
   "metadata": {},
   "outputs": [
    {
     "data": {
      "text/plain": [
       "array([0.  , 0.25, 0.5 , 0.75, 1.  ])"
      ]
     },
     "execution_count": 10,
     "metadata": {},
     "output_type": "execute_result"
    }
   ],
   "source": [
    "np.linspace(0, 1, 5)"
   ]
  },
  {
   "cell_type": "markdown",
   "id": "ecbdd647-bc5e-4758-9bc7-0164c56a530f",
   "metadata": {},
   "source": [
    "### Array Dimensions and Size"
   ]
  },
  {
   "cell_type": "code",
   "execution_count": 13,
   "id": "caf06f9f-8e2e-4164-a485-092cc0e629eb",
   "metadata": {},
   "outputs": [
    {
     "data": {
      "text/plain": [
       "(3,)"
      ]
     },
     "execution_count": 13,
     "metadata": {},
     "output_type": "execute_result"
    }
   ],
   "source": [
    "Table.shape"
   ]
  },
  {
   "cell_type": "code",
   "execution_count": 14,
   "id": "51c4e4db-b8a3-4517-bfce-d548a9ee2fd0",
   "metadata": {},
   "outputs": [
    {
     "data": {
      "text/plain": [
       "1"
      ]
     },
     "execution_count": 14,
     "metadata": {},
     "output_type": "execute_result"
    }
   ],
   "source": [
    "Table.ndim"
   ]
  },
  {
   "cell_type": "code",
   "execution_count": 15,
   "id": "25166357-1695-4b87-998c-205dfddc8a22",
   "metadata": {},
   "outputs": [
    {
     "data": {
      "text/plain": [
       "3"
      ]
     },
     "execution_count": 15,
     "metadata": {},
     "output_type": "execute_result"
    }
   ],
   "source": [
    "Table.size"
   ]
  },
  {
   "cell_type": "markdown",
   "id": "4d80744d-2dc3-45b3-bcef-75dad11cc855",
   "metadata": {},
   "source": [
    "### Manipulate Arrays"
   ]
  },
  {
   "cell_type": "code",
   "execution_count": null,
   "id": "1ec5f582-976f-4001-8a16-7ac4335e86e6",
   "metadata": {},
   "outputs": [],
   "source": []
  }
 ],
 "metadata": {
  "kernelspec": {
   "display_name": "Python [conda env:base] *",
   "language": "python",
   "name": "conda-base-py"
  },
  "language_info": {
   "codemirror_mode": {
    "name": "ipython",
    "version": 3
   },
   "file_extension": ".py",
   "mimetype": "text/x-python",
   "name": "python",
   "nbconvert_exporter": "python",
   "pygments_lexer": "ipython3",
   "version": "3.13.5"
  }
 },
 "nbformat": 4,
 "nbformat_minor": 5
}
